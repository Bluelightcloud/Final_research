{
 "cells": [
  {
   "cell_type": "code",
   "execution_count": 1,
   "metadata": {
    "scrolled": true
   },
   "outputs": [
    {
     "name": "stdout",
     "output_type": "stream",
     "text": [
      "Euclid\n",
      "深長 : 0.13754295307292144\n",
      "深短 : 0.2456204046963984\n",
      "浅長 : 0.1913633088280165\n",
      "浅短 : 0.4130497015038244\n",
      "Pearson\n",
      "深長 : 0.9350399846732557\n",
      "深短 : 0.5926085790838181\n",
      "浅長 : 0.8669130731129594\n",
      "浅短 : -0.2313847464664486\n"
     ]
    }
   ],
   "source": [
    "import math\n",
    "import pandas as pd\n",
    "import xlrd\n",
    "\n",
    "wb = xlrd.open_workbook('test.xls')\n",
    "sheet_1 = wb.sheet_by_name('Sheet1')\n",
    "\n",
    "def distance(test, training):\n",
    "    squares = [(test[i] - training[i]) ** 2 for i in range(0, len(test))]\n",
    "    sum_of_sqrt = math.sqrt(sum(squares))\n",
    "    return 1/(1 + sum_of_sqrt)\n",
    "\n",
    "def pearson(test, training):\n",
    "    n = len(test)\n",
    "    test_mean = sum([test[i] for i in range(0, n)]) / n\n",
    "    training_mean = sum([training[i] for i in range(0, n)]) / n\n",
    "    test_variance = math.sqrt(sum([((test[i] - test_mean) ** 2) for i in range(0, n)]))\n",
    "    training_variance = math.sqrt(sum([((training[i] - training_mean) ** 2) for i in range(0, n)]))\n",
    "\n",
    "    covariance = sum([(test[i] - test_mean)*(training[i] - training_mean) for i in range(0, n)])\n",
    "\n",
    "    if test_variance * training_variance == 0: return 0\n",
    "\n",
    "    return covariance / (test_variance * training_variance)\n",
    "\n",
    "'''\n",
    "def data_organize():\n",
    "    input_book = pd.ExcelFile('test.xlsx')\n",
    "    input_sheet_name = input_book.sheet_names\n",
    "    input_sheet = input_book.parse(input_sheet_name[0])\n",
    "    input_sheet.head(10)\n",
    "'''\n",
    "\n",
    "test_data = []\n",
    "training_dl = []\n",
    "training_ds = []\n",
    "training_sl = []\n",
    "training_ss = []\n",
    "\n",
    "#deep or shallow \n",
    "#long or short\n",
    "\n",
    "for i in range(1,101):\n",
    "    test_data.append(float(sheet_1.cell(i,2).value))\n",
    "    training_dl.append(float(sheet_1.cell(i,6).value))\n",
    "    training_ds.append(float(sheet_1.cell(i,10).value))\n",
    "    training_sl.append(float(sheet_1.cell(i,14).value))\n",
    "    training_ss.append(float(sheet_1.cell(i,18).value))\n",
    "\n",
    "print(\"Euclid\")\n",
    "print(\"深長 : \" + str(distance(test_data, training_dl)))\n",
    "print(\"深短 : \" + str(distance(test_data, training_ds)))\n",
    "print(\"浅長 : \" + str(distance(test_data, training_sl)))\n",
    "print(\"浅短 : \" + str(distance(test_data, training_ss)))\n",
    "print(\"Pearson\")\n",
    "print(\"深長 : \" + str(pearson(test_data, training_dl)))\n",
    "print(\"深短 : \" + str(pearson(test_data, training_ds)))\n",
    "print(\"浅長 : \" + str(pearson(test_data, training_sl)))\n",
    "print(\"浅短 : \" + str(pearson(test_data, training_ss)))"
   ]
  },
  {
   "cell_type": "code",
   "execution_count": null,
   "metadata": {},
   "outputs": [],
   "source": []
  }
 ],
 "metadata": {
  "kernelspec": {
   "display_name": "Python 3",
   "language": "python",
   "name": "python3"
  },
  "language_info": {
   "codemirror_mode": {
    "name": "ipython",
    "version": 3
   },
   "file_extension": ".py",
   "mimetype": "text/x-python",
   "name": "python",
   "nbconvert_exporter": "python",
   "pygments_lexer": "ipython3",
   "version": "3.8.2"
  }
 },
 "nbformat": 4,
 "nbformat_minor": 4
}
